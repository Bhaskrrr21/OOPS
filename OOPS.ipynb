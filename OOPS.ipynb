{
  "nbformat": 4,
  "nbformat_minor": 0,
  "metadata": {
    "colab": {
      "provenance": []
    },
    "kernelspec": {
      "name": "python3",
      "display_name": "Python 3"
    },
    "language_info": {
      "name": "python"
    }
  },
  "cells": [
    {
      "cell_type": "markdown",
      "source": [
        "# OOPS (Object-Oriented Programming)"
      ],
      "metadata": {
        "id": "fS0asoyqoEWg"
      }
    },
    {
      "cell_type": "markdown",
      "source": [
        "1. What is Object-Oriented Programming (OOP) ?\n",
        "- OOP (Object-Oriented Programming) is a way of writing programs by organizing code into objects instead of just functions and logic. OOP is widely used in languages like Java, C++, Python, and C\n"
      ],
      "metadata": {
        "id": "Z4YF6jdEoKpw"
      }
    },
    {
      "cell_type": "markdown",
      "source": [
        " 2. What is a class in OOP ?\n",
        " -  A class is a blueprint or template for creating objects. It defines a set of attributes and methods (functions) that the objects created from the class will have. A class encapsulates data and behavior into a single unit."
      ],
      "metadata": {
        "id": "sByb0rokooGf"
      }
    },
    {
      "cell_type": "markdown",
      "source": [
        "3. What is an object in OOP ?\n",
        "- An object is an instance of a class.\n",
        "-It has a state (data), behavior (methods), and a unique identity."
      ],
      "metadata": {
        "id": "5R-ePSyfpXxd"
      }
    },
    {
      "cell_type": "markdown",
      "source": [
        "4. What is the difference between abstraction and encapsulation ?\n",
        "- Abstraction focuses on simplifying the interface and hiding implementation details.\n",
        "- Encapsulation focuses on bundling data and methods together and restricting access to the internal state of an object.\n",
        "- Absaction is achieved through abstract classes and interfaces.\n",
        "- Encapsulation is achieved through access modifiers (private, protected, public)."
      ],
      "metadata": {
        "id": "CAG3Ptv-psj_"
      }
    },
    {
      "cell_type": "markdown",
      "source": [
        "5. What are dunder methods in Python ?\n",
        "- Dunder methods are special methods in Python that start and end with double underscores(__method__). These methods allow you to define the behavior of your objects in various contexts, enabling you to customize how instances of your classes behave with built-in operations."
      ],
      "metadata": {
        "id": "sQh8OCZA1_cr"
      }
    },
    {
      "cell_type": "markdown",
      "source": [
        " 6. Explain the concept of inheritance in OOP ?\n",
        " - Inheritance is a fundamental concept in Object-Oriented Programming (OOP) that allows a class to inherit properties and methods from another class.\n",
        " It helps in code reusability, extensibility, and avoiding code duplication"
      ],
      "metadata": {
        "id": "BPuH6YjX43RR"
      }
    },
    {
      "cell_type": "markdown",
      "source": [
        "7. What is polymorphism in OOP ?\n",
        "- Polymorphism means\"many forms.\" In OOP, it allows different classes to be treated as instances of the same class through a common interface. This means you can use the same method name for different classes, and each class can have its own way of doing things."
      ],
      "metadata": {
        "id": "BdHDp6w_50Vo"
      }
    },
    {
      "cell_type": "markdown",
      "source": [
        "8. How is encapsulation achieved in Python ?\n",
        " - Encapsulation is the concept of hiding data inside a class and restricting direct access to it.\n",
        " It is achieved using private variables and getter & setter methods."
      ],
      "metadata": {
        "id": "3aPao5ZH6eyH"
      }
    },
    {
      "cell_type": "markdown",
      "source": [
        "9. What is a constructor in Python ?\n",
        " - A constructor is a special method in Python that is automatically called when an object of a class is created.\n",
        "It is used to initialize the object's attributes and set the initial state of the object."
      ],
      "metadata": {
        "id": "57PQEPG35xn6"
      }
    },
    {
      "cell_type": "markdown",
      "source": [
        "10. What are class and static methods in Python ?\n",
        "- Class Methods: Use when you need to access or modify class-level data. They are associated with the class itself.\n",
        "- Static Methods: Use when you want to define a method that does not need to access class or instance data."
      ],
      "metadata": {
        "id": "_SpvWMoSJviq"
      }
    },
    {
      "cell_type": "markdown",
      "source": [
        "11. What is method overloading in Python ?\n",
        "- Method Overloading means defining multiple methods with the same name but different parameters in a class. However, Python does not support method overloading because Python functions support default arguments and *args."
      ],
      "metadata": {
        "id": "b85Yex8PLgyw"
      }
    },
    {
      "cell_type": "markdown",
      "source": [
        "12. What is method overriding in OOP ?\n",
        "- Method overriding is a powerful feature in OOP that allows subclasses to provide specific implementations of methods defined in their superclasses. It promotes code reuse, customization, and polymorphism, making it easier to design flexible and maintainable software systems."
      ],
      "metadata": {
        "id": "J1pHTRiEMQnI"
      }
    },
    {
      "cell_type": "markdown",
      "source": [
        "13. What is a property decorator in Python ?\n",
        "- The property decorator in Python is a powerful feature that enhances the encapsulation and usability of classes. It allows you to define methods that can be accessed like attributes, providing a clean interface"
      ],
      "metadata": {
        "id": "QSZnn_VvMxAg"
      }
    },
    {
      "cell_type": "markdown",
      "source": [
        "14. Why is polymorphism important in OOP ?\n",
        "- Polymorphism is important in OOP because it promotes ⏩\n",
        " - Code Reusability : Write functions that work with multiple object types.\n",
        " - Flexibility : Add new classes without modifying existing code.\n",
        " - Method Overriding : Allows child classes to change parent class methods.\n",
        " - Operator Overloading\t: Customize how operators work for objects."
      ],
      "metadata": {
        "id": "YekEP4ivNRrf"
      }
    },
    {
      "cell_type": "markdown",
      "source": [
        "15. What is an abstract class in Python ?\n",
        "- An abstract class in Python is a class that cannot be instantiated on its own and is designed to be a base class for other classes. It serves as a blueprint for other classes, defining a common interface"
      ],
      "metadata": {
        "id": "OdXEiqTcO9qP"
      }
    },
    {
      "cell_type": "markdown",
      "source": [
        "16. What are the advantages of OOP ?\n",
        "- Object-Oriented Programming offers advantages that enhance the development process, improve code quality, and facilitate maintenance. By promoting encapsulation, abstraction, inheritance, and polymorphism"
      ],
      "metadata": {
        "id": "cTYERX3FZ_EE"
      }
    },
    {
      "cell_type": "markdown",
      "source": [
        "17. What is the difference between a class variable and an instance variable ?\n",
        "\n",
        "Definition\n",
        "\n",
        " - Class Variable - Shared among all instances of the class.\n",
        " - Instance Variable - Unique to each instance of the class.\n",
        "\n",
        "Scope\n",
        "\n",
        " - Class Variable - Accessible via the class and all instances.\n",
        "\n",
        "- Instance Variable - Accessible only through the instance.\n",
        "\n",
        "Modification\n",
        "\n",
        "- Class Variable - Changes affect all instances.\n",
        "\n",
        "- Instance Variable - Changes affect only the specific instance.\n",
        "\n",
        "Usage\n",
        "\n",
        "- Class Variable - Used for properties common to all instances.\n",
        "\n",
        "- Instance Variable - Used for properties specific to an instance."
      ],
      "metadata": {
        "id": "pGXSe_du1ZPS"
      }
    },
    {
      "cell_type": "markdown",
      "source": [
        " 18. What is multiple inheritance in Python ?\n",
        " - Multiple inheritance is a feature in object-oriented programming (OOP) that allows a class to inherit attributes and methods from more than one parent class. In Python, this means that a derived class can have multiple base classes."
      ],
      "metadata": {
        "id": "TaWGerYf7GLW"
      }
    },
    {
      "cell_type": "markdown",
      "source": [
        "19.  Explain the purpose of ‘’__str__’ and ‘__repr__’ ‘ methods in Python ?\n",
        "- The __str__ method is used to provide a readable and user-friendly string representation of an object, while the __repr__ method is used to provide a detailed and unambiguous representation that is useful for developers. Implementing both methods in your classes can enhance the usability and debuggability of your objects."
      ],
      "metadata": {
        "id": "Oe_64ICnc4Ku"
      }
    },
    {
      "cell_type": "markdown",
      "source": [
        "20. What is the significance of the ‘super()’ function in Python ?\n",
        "- The super() function is a feature in Python that facilitates method overriding, constructor chaining, and the implementation of multiple inheritance. It enhances code maintainability and readability by allowing you to call parent class methods without explicitly naming them\n"
      ],
      "metadata": {
        "id": "XVsXNnIddX0H"
      }
    },
    {
      "cell_type": "markdown",
      "source": [
        " 21. What is the significance of the __del__ method in Python ?\n",
        " - The __del__ method in Python is a special method, also known as a destructor, that is called when an object is about to be destroyed. It is part of the object lifecycle and is used to define cleanup actions that should be performed before an object is removed from memory."
      ],
      "metadata": {
        "id": "Q7oN0EbEfACC"
      }
    },
    {
      "cell_type": "markdown",
      "source": [
        "22. What is the difference between @staticmethod and @classmethod in Python ?\n",
        "\n",
        "- @staticmethod\n",
        " - It is used for methods that do not need to access or modify class or instance data.\n",
        " - It does not receive self or cls as a parameter.\n",
        " - It behaves like a regular function inside a class but is logically related to the class.\n",
        "- @classmethod\n",
        " - It is used for methods that need to operate on the class itself.\n",
        " - It takes cls as the first parameter, referring to the class, not the instance.\n",
        " - It is used when a method needs access to class variables."
      ],
      "metadata": {
        "id": "RkkjuAl2ffGc"
      }
    },
    {
      "cell_type": "markdown",
      "source": [
        "23. How does polymorphism work in Python with inheritance ?\n",
        "- In inheritance, polymorphism enables child classes to provide specific implementations of methods defined in the parent class.\n",
        "- This is achieved using method overriding, where a subclass redefines a method from its superclass."
      ],
      "metadata": {
        "id": "r9mKxQN2hSJc"
      }
    },
    {
      "cell_type": "markdown",
      "source": [
        "24. What is method chaining in Python OOP ?\n",
        "- Method chaining is a technique in Object-Oriented Programming (OOP) where multiple methods are called in a single line, one after another\n",
        "- It works by returning self (the current object) from each method, allowing the next method to be called on the same object.\n",
        "- This improves code readability"
      ],
      "metadata": {
        "id": "1JbjDHcFiEvt"
      }
    },
    {
      "cell_type": "markdown",
      "source": [
        "25. What is the purpose of the __call__ method in Python? ?\n",
        "- The __call__ method in Python allows an instance of a class to be called as if it were a function.\n",
        "- This makes objects callable, meaning they can be invoked like a function with parentheses ().\n",
        "-  It is useful for creating function-like behavior in classes, such as decorators, dynamic function calls, or custom processing\n"
      ],
      "metadata": {
        "id": "-dU6R65bihvU"
      }
    },
    {
      "cell_type": "markdown",
      "source": [
        "# Practical Question"
      ],
      "metadata": {
        "id": "65T0Qq5mhnBo"
      }
    },
    {
      "cell_type": "markdown",
      "source": [
        "1. Create a parent class Animal with a method speak() that prints a generic message. Create a child class Dog\n",
        "that overrides the speak() method to print \"Bark!\" ?"
      ],
      "metadata": {
        "id": "06iqYubtkGfD"
      }
    },
    {
      "cell_type": "code",
      "source": [
        "# Parent class\n",
        "class Animal:\n",
        "    def speak(self):\n",
        "        print(\"This is a generic animal sound.\")\n",
        "\n",
        "# Child class\n",
        "class Dog(Animal):\n",
        "    def speak(self):\n",
        "        print(\"Bark!\")\n",
        "\n",
        "generic_animal = Animal()\n",
        "dog = Dog()\n",
        "\n",
        "generic_animal.speak()\n",
        "dog.speak()\n",
        "\n"
      ],
      "metadata": {
        "colab": {
          "base_uri": "https://localhost:8080/"
        },
        "id": "Sq2fKZLmjw0p",
        "outputId": "d86ab1bf-5e71-4058-c3b6-29e9a8a229a8"
      },
      "execution_count": 5,
      "outputs": [
        {
          "output_type": "stream",
          "name": "stdout",
          "text": [
            "This is a generic animal sound.\n",
            "Bark!\n"
          ]
        }
      ]
    },
    {
      "cell_type": "markdown",
      "source": [
        " 2. Write a program to create an abstract class Shape with a method area(). Derive classes Circle and Rectangle\n",
        "from it and implement the area() method in both. ?"
      ],
      "metadata": {
        "id": "FdkYhlBGkNaH"
      }
    },
    {
      "cell_type": "code",
      "source": [
        "from abc import ABC, abstractmethod\n",
        "\n",
        "class Shape(ABC):\n",
        "    @abstractmethod\n",
        "    def area(self):\n",
        "        pass\n",
        "\n",
        "class Circle(Shape):\n",
        "    def __init__(self, r):\n",
        "        self.r = r\n",
        "\n",
        "    def area(self):\n",
        "        return 3.14 * self.r ** 2\n",
        "\n",
        "class Rectangle(Shape):\n",
        "    def __init__(self, l, w):\n",
        "        self.l, self.w = l, w\n",
        "\n",
        "    def area(self):\n",
        "        return self.l * self.w\n",
        "\n",
        "print(\"Circle Area:\", Circle(5).area())\n",
        "print(\"Rectangle Area:\", Rectangle(4, 6).area())\n"
      ],
      "metadata": {
        "colab": {
          "base_uri": "https://localhost:8080/"
        },
        "id": "gthsu04CWdVB",
        "outputId": "3a741355-eecd-4c91-8859-b636e9aa48d2"
      },
      "execution_count": 6,
      "outputs": [
        {
          "output_type": "stream",
          "name": "stdout",
          "text": [
            "Circle Area: 78.5\n",
            "Rectangle Area: 24\n"
          ]
        }
      ]
    },
    {
      "cell_type": "markdown",
      "source": [
        " 3. Implement a multi-level inheritance scenario where a class Vehicle has an attribute type. Derive a class Car\n",
        "and further derive a class ElectricCar that adds a battery attribute. ?"
      ],
      "metadata": {
        "id": "mCHwOqB2XC10"
      }
    },
    {
      "cell_type": "code",
      "source": [
        "class Vehicle:\n",
        "    def __init__(self):\n",
        "        self.type = \"Vehicle\"\n",
        "\n",
        "class Car(Vehicle):\n",
        "    def __init__(self):\n",
        "        super().__init__()\n",
        "        self.brand = \"OLA\"\n",
        "\n",
        "class ElectricCar(Car):\n",
        "    def __init__(self):\n",
        "        super().__init__()\n",
        "        self.battery = \"4 kWh\"\n",
        "\n",
        "ecar = ElectricCar()\n",
        "\n",
        "print(ecar.type)\n",
        "print(ecar.brand)\n",
        "print(ecar.battery)\n"
      ],
      "metadata": {
        "colab": {
          "base_uri": "https://localhost:8080/"
        },
        "id": "-MHi0hIjYozL",
        "outputId": "1ca959bb-4ac2-4161-8fb5-7b7fea94e6ff"
      },
      "execution_count": 2,
      "outputs": [
        {
          "output_type": "stream",
          "name": "stdout",
          "text": [
            "Vehicle\n",
            "OLA\n",
            "4 kWh\n"
          ]
        }
      ]
    },
    {
      "cell_type": "markdown",
      "source": [
        " 4. Demonstrate polymorphism by creating a base class Bird with a method fly(). Create two derived classes\n",
        "Sparrow and Penguin that override the fly() method. ?"
      ],
      "metadata": {
        "id": "0oEMB-eeZN7x"
      }
    },
    {
      "cell_type": "code",
      "source": [
        "class Bird:\n",
        "    def fly(self):\n",
        "        print(\"Birds can fly\")\n",
        "\n",
        "class Sparrow(Bird):\n",
        "    def fly(self):\n",
        "        print(\"Sparrow flies high\")\n",
        "\n",
        "class Penguin(Bird):\n",
        "    def fly(self):\n",
        "        print(\"Penguins cannot fly\")\n",
        "\n",
        "for bird in [Sparrow(), Penguin()]:\n",
        "    bird.fly()\n"
      ],
      "metadata": {
        "colab": {
          "base_uri": "https://localhost:8080/"
        },
        "id": "FJqbzRkDZT2B",
        "outputId": "8c4e36ad-1fca-4020-fa2e-4e0f565bd060"
      },
      "execution_count": 3,
      "outputs": [
        {
          "output_type": "stream",
          "name": "stdout",
          "text": [
            "Sparrow flies high\n",
            "Penguins cannot fly\n"
          ]
        }
      ]
    },
    {
      "cell_type": "markdown",
      "source": [
        "5. Write a program to demonstrate encapsulation by creating a class BankAccount with private attributes\n",
        "balance and methods to deposit, withdraw, and check balance ?"
      ],
      "metadata": {
        "id": "U8rEoIgEaVNV"
      }
    },
    {
      "cell_type": "code",
      "source": [
        "class BankAccount:\n",
        "    def __init__(self):\n",
        "        self.__balance = 0\n",
        "\n",
        "    def deposit(self, amount):\n",
        "        if amount > 0:\n",
        "            self.__balance += amount\n",
        "            print(f\"Deposited: {amount:.2f}\")\n",
        "        else:\n",
        "            print(\"Deposit amount must be positive.\")\n",
        "\n",
        "    def withdraw(self, amount):\n",
        "        if 0 < amount <= self.__balance:\n",
        "            self.__balance -= amount\n",
        "            print(f\"Withdrew: {amount:.2f}\")\n",
        "        else:\n",
        "            print(\"Invalid withdrawal amount or insufficient funds.\")\n",
        "\n",
        "    def check_balance(self):\n",
        "        return f\"Current balance: {self.__balance:.2f}\"\n",
        "\n",
        "\n",
        "# Create an instance of Bank Account\n",
        "account = BankAccount()\n",
        "\n",
        "# Demonstrate deposit\n",
        "account.deposit(100)\n",
        "\n",
        "# Demonstrate withdrawal\n",
        "account.withdraw(30)\n",
        "\n",
        "# Check balance\n",
        "print(account.check_balance())"
      ],
      "metadata": {
        "colab": {
          "base_uri": "https://localhost:8080/"
        },
        "id": "bZZtXvsDahbI",
        "outputId": "992185db-a3f2-4f15-edf4-bd1b98a5ce46"
      },
      "execution_count": 9,
      "outputs": [
        {
          "output_type": "stream",
          "name": "stdout",
          "text": [
            "Deposited: 100.00\n",
            "Withdrew: 30.00\n",
            "Current balance: 70.00\n"
          ]
        }
      ]
    },
    {
      "cell_type": "markdown",
      "source": [
        "6. Demonstrate runtime polymorphism using a method play() in a base class Instrument. Derive classes Guitar\n",
        "and Piano that implement their own version of play() ?"
      ],
      "metadata": {
        "id": "hImJ4Ugva7y3"
      }
    },
    {
      "cell_type": "code",
      "source": [
        "class Instrument:\n",
        "    def play(self):\n",
        "        raise NotImplementedError\n",
        "\n",
        "class Guitar(Instrument):\n",
        "    def play(self):\n",
        "        return \"Strumming the guitar.\"\n",
        "\n",
        "class Piano(Instrument):\n",
        "    def play(self):\n",
        "        return \"Playing the piano.\"\n",
        "\n",
        "def perform(instrument):\n",
        "    print(instrument.play())\n",
        "\n",
        "guitar = Guitar()\n",
        "piano = Piano()\n",
        "\n",
        "perform(guitar)\n",
        "perform(piano)"
      ],
      "metadata": {
        "colab": {
          "base_uri": "https://localhost:8080/"
        },
        "id": "KFcOkQu7cQtJ",
        "outputId": "49cf9787-cdc7-45ae-d82b-eb3f098f13da"
      },
      "execution_count": 12,
      "outputs": [
        {
          "output_type": "stream",
          "name": "stdout",
          "text": [
            "Strumming the guitar.\n",
            "Playing the piano.\n"
          ]
        }
      ]
    },
    {
      "cell_type": "markdown",
      "source": [
        " 7. Create a class MathOperations with a class method add_numbers() to add two numbers and a static\n",
        "method subtract_numbers() to subtract two numbers ?"
      ],
      "metadata": {
        "id": "V0Sv8fWfcjtA"
      }
    },
    {
      "cell_type": "code",
      "source": [
        "class MathOperations:\n",
        "    @classmethod\n",
        "    def add_numbers(cls, a, b):\n",
        "        return a + b\n",
        "\n",
        "    @staticmethod\n",
        "    def subtract_numbers(a, b):\n",
        "        return a - b\n",
        "\n",
        "# Example usage\n",
        "result_add = MathOperations.add_numbers(10, 5)\n",
        "result_subtract = MathOperations.subtract_numbers(10, 5)\n",
        "\n",
        "print(f\"Addition Result: {result_add}\")\n",
        "print(f\"Subtraction Result: {result_subtract}\")"
      ],
      "metadata": {
        "colab": {
          "base_uri": "https://localhost:8080/"
        },
        "id": "m_Xfj9hzcpXP",
        "outputId": "bd401af4-118a-4182-a87f-83a114685e97"
      },
      "execution_count": 16,
      "outputs": [
        {
          "output_type": "stream",
          "name": "stdout",
          "text": [
            "Addition Result: 15\n",
            "Subtraction Result: 5\n"
          ]
        }
      ]
    },
    {
      "cell_type": "markdown",
      "source": [
        "8. Implement a class Person with a class method to count the total number of persons created ?"
      ],
      "metadata": {
        "id": "_6m2-6BYdIKA"
      }
    },
    {
      "cell_type": "code",
      "source": [
        "class Person:\n",
        "    total_persons = 0\n",
        "\n",
        "    def __init__(self, name):\n",
        "        self.name = name\n",
        "        Person.total_persons += 1\n",
        "    @classmethod\n",
        "    def count_persons(cls):\n",
        "        return cls.total_persons\n",
        "\n",
        "person1 = Person(\"1\")\n",
        "person2 = Person(\"2\")\n",
        "\n",
        "total = Person.count_persons()\n",
        "print(f\"Total number of persons created: {total}\")"
      ],
      "metadata": {
        "colab": {
          "base_uri": "https://localhost:8080/"
        },
        "id": "o6Ul4yzjehsb",
        "outputId": "a2115f1f-545c-4941-eeb2-8bb94e1c7300"
      },
      "execution_count": 19,
      "outputs": [
        {
          "output_type": "stream",
          "name": "stdout",
          "text": [
            "Total number of persons created: 2\n"
          ]
        }
      ]
    },
    {
      "cell_type": "markdown",
      "source": [
        "9. Write a class Fraction with attributes numerator and denominator. Override the str method to display the\n",
        "fraction as \"numerator/denominator\" ?"
      ],
      "metadata": {
        "id": "2E_e7rETfIHE"
      }
    },
    {
      "cell_type": "code",
      "source": [
        "class Fraction:\n",
        "    def __init__(self, numerator, denominator):\n",
        "        if denominator == 0:\n",
        "            raise ValueError(\"Denominator cannot be zero.\")\n",
        "        self.numerator = numerator\n",
        "        self.denominator = denominator\n",
        "\n",
        "    def __str__(self):\n",
        "        return f\"{self.numerator}/{self.denominator}\"\n",
        "\n",
        "fraction1 = Fraction(3, 4)\n",
        "fraction2 = Fraction(5, 2)\n",
        "\n",
        "print(fraction1)\n",
        "print(fraction2)"
      ],
      "metadata": {
        "colab": {
          "base_uri": "https://localhost:8080/"
        },
        "id": "L1sQQz5yfPWF",
        "outputId": "84040816-d67b-42ff-e42d-b3246d2c1386"
      },
      "execution_count": 20,
      "outputs": [
        {
          "output_type": "stream",
          "name": "stdout",
          "text": [
            "3/4\n",
            "5/2\n"
          ]
        }
      ]
    },
    {
      "cell_type": "markdown",
      "source": [
        "10. Demonstrate operator overloading by creating a class Vector and overriding the add method to add two\n",
        "vectors ?"
      ],
      "metadata": {
        "id": "D0pDI8CLf52n"
      }
    },
    {
      "cell_type": "code",
      "source": [
        "class Vector:\n",
        "    def __init__(self, x, y):\n",
        "        self.x = x\n",
        "        self.y = y\n",
        "\n",
        "    def __add__(self, other):\n",
        "        return Vector(self.x + other.x, self.y + other.y)\n",
        "\n",
        "    def __str__(self):\n",
        "        return f\"({self.x}, {self.y})\"\n",
        "\n",
        "v1 = Vector(2, 3)\n",
        "v2 = Vector(4, 5)\n",
        "result = v1 + v2\n",
        "\n",
        "print(result)"
      ],
      "metadata": {
        "colab": {
          "base_uri": "https://localhost:8080/"
        },
        "id": "PceliHhGgDnl",
        "outputId": "c900d455-0bcf-4d69-8a73-d8c6ed86c606"
      },
      "execution_count": 21,
      "outputs": [
        {
          "output_type": "stream",
          "name": "stdout",
          "text": [
            "(6, 8)\n"
          ]
        }
      ]
    },
    {
      "cell_type": "markdown",
      "source": [
        " 11. Create a class Person with attributes name and age. Add a method greet() that prints \"Hello, my name is\n",
        "{name} and I am {age} years old.\" ?"
      ],
      "metadata": {
        "id": "FrfDG02hfDHB"
      }
    },
    {
      "cell_type": "code",
      "source": [
        "class Person:\n",
        "    def __init__(self, name, age):\n",
        "        self.name = name\n",
        "        self.age = age\n",
        "\n",
        "    def greet(self):\n",
        "        print(f\"Hello, my name is {self.name} and I am {self.age} years old.\")\n",
        "\n",
        "# Example\n",
        "person1 = Person(\"Max\", 30)\n",
        "person1.greet()\n"
      ],
      "metadata": {
        "colab": {
          "base_uri": "https://localhost:8080/"
        },
        "id": "Lv2A3AsogmWL",
        "outputId": "3d69379a-8f3c-4d76-d837-a99be6bf14dc"
      },
      "execution_count": 22,
      "outputs": [
        {
          "output_type": "stream",
          "name": "stdout",
          "text": [
            "Hello, my name is Max and I am 30 years old.\n"
          ]
        }
      ]
    },
    {
      "cell_type": "markdown",
      "source": [
        "12. Implement a class Student with attributes name and grades. Create a method average_grade() to compute\n",
        "the average of the grades ?"
      ],
      "metadata": {
        "id": "ddDuVrvLg4pY"
      }
    },
    {
      "cell_type": "code",
      "source": [
        "class Student:\n",
        "    def __init__(self, name, grades):\n",
        "        self.name = name\n",
        "        self.grades = grades\n",
        "\n",
        "    def average_grade(self):\n",
        "        if not self.grades:\n",
        "            return 0\n",
        "        return sum(self.grades) / len(self.grades)\n",
        "\n",
        "# Example\n",
        "student1 = Student(\"A\", [85, 90, 77, 92])\n",
        "student2 = Student(\"B\", [70, 78, 95, 99])\n",
        "\n",
        "print(f\"{student1.name}'s average grade: {student1.average_grade():.2f}\")\n",
        "print(f\"{student2.name}'s average grade: {student2.average_grade():.2f}\")"
      ],
      "metadata": {
        "colab": {
          "base_uri": "https://localhost:8080/"
        },
        "id": "3TheqQvXg_6N",
        "outputId": "cf9dcaa9-d8f7-4b8e-95e4-ac22ab13ab12"
      },
      "execution_count": 25,
      "outputs": [
        {
          "output_type": "stream",
          "name": "stdout",
          "text": [
            "A's average grade: 86.00\n",
            "B's average grade: 85.50\n"
          ]
        }
      ]
    },
    {
      "cell_type": "markdown",
      "source": [
        " 13. Create a class Rectangle with methods set_dimensions() to set the dimensions and area() to calculate the\n",
        "area ?"
      ],
      "metadata": {
        "id": "J2fMGSY4ha2V"
      }
    },
    {
      "cell_type": "code",
      "source": [
        "class Rectangle:\n",
        "    def __init__(self):\n",
        "        self.width = 0\n",
        "        self.height = 0\n",
        "\n",
        "    def set_dimensions(self, width, height):\n",
        "        self.width = width\n",
        "        self.height = height\n",
        "\n",
        "    def area(self):\n",
        "        return self.width * self.height\n",
        "\n",
        "# Example\n",
        "rectangle = Rectangle()\n",
        "rectangle.set_dimensions(5, 3)\n",
        "print(f\"Area of the rectangle: {rectangle.area()}\")"
      ],
      "metadata": {
        "colab": {
          "base_uri": "https://localhost:8080/"
        },
        "id": "0wb0HW5ZhwQm",
        "outputId": "bb1b561b-7913-40d0-bc61-664eada821b3"
      },
      "execution_count": 26,
      "outputs": [
        {
          "output_type": "stream",
          "name": "stdout",
          "text": [
            "Area of the rectangle: 15\n"
          ]
        }
      ]
    },
    {
      "cell_type": "markdown",
      "source": [
        "14. Create a class Employee with a method calculate_salary() that computes the salary based on hours worked\n",
        "and hourly rate. Create a derived class Manager that adds a bonus to the salary ?"
      ],
      "metadata": {
        "id": "uQ2rpMaciBIR"
      }
    },
    {
      "cell_type": "code",
      "source": [
        "class Employee:\n",
        "    def __init__(self, hours_worked, hourly_rate):\n",
        "        self.hours_worked = hours_worked\n",
        "        self.hourly_rate = hourly_rate\n",
        "\n",
        "    def calculate_salary(self):\n",
        "        return self.hours_worked * self.hourly_rate\n",
        "\n",
        "class Manager(Employee):\n",
        "    def __init__(self, hours_worked, hourly_rate, bonus):\n",
        "        super().__init__(hours_worked, hourly_rate)\n",
        "        self.bonus = bonus\n",
        "\n",
        "    def calculate_salary(self):\n",
        "        return super().calculate_salary() + self.bonus\n",
        "\n",
        "emp = Employee(40, 20)\n",
        "mgr = Manager(40, 30, 500)\n",
        "\n",
        "print(f\"Employee Salary: {emp.calculate_salary()}\")\n",
        "print(f\"Manager Salary: {mgr.calculate_salary()}\")\n"
      ],
      "metadata": {
        "colab": {
          "base_uri": "https://localhost:8080/"
        },
        "id": "YDsx79eOiIt9",
        "outputId": "d6d363a0-d828-442b-e7bd-b20d20d0c989"
      },
      "execution_count": 30,
      "outputs": [
        {
          "output_type": "stream",
          "name": "stdout",
          "text": [
            "Employee Salary: 800\n",
            "Manager Salary: 1700\n"
          ]
        }
      ]
    },
    {
      "cell_type": "markdown",
      "source": [
        " 15. Create a class Product with attributes name, price, and quantity. Implement a method total_price() that\n",
        "calculates the total price of the product ?"
      ],
      "metadata": {
        "id": "LLdMbhkFjPgp"
      }
    },
    {
      "cell_type": "code",
      "source": [
        "class Product:\n",
        "    def __init__(self, name, price, quantity):\n",
        "        self.name = name\n",
        "        self.price = price\n",
        "        self.quantity = quantity\n",
        "\n",
        "    def total_price(self):\n",
        "        \"\"\"Calculate the total price of the product.\"\"\"\n",
        "        return self.price * self.quantity\n",
        "\n",
        "# Example\n",
        "if __name__ == \"__main__\":\n",
        "    product1 = Product(\"Laptop\", 80000, 2)\n",
        "    product2 = Product(\"Phone\", 5000, 3)\n",
        "\n",
        "    print(f\"Total price of {product1.name}: {product1.total_price()}\")\n",
        "    print(f\"Total price of {product2.name}: {product2.total_price()}\")"
      ],
      "metadata": {
        "colab": {
          "base_uri": "https://localhost:8080/"
        },
        "id": "GFtOJwqujWzu",
        "outputId": "4410ed75-f178-4806-8c6e-3a0a3b22e0d3"
      },
      "execution_count": 34,
      "outputs": [
        {
          "output_type": "stream",
          "name": "stdout",
          "text": [
            "Total price of Laptop: 160000\n",
            "Total price of Phone: 15000\n"
          ]
        }
      ]
    },
    {
      "cell_type": "markdown",
      "source": [
        "16. Create a class Animal with an abstract method sound(). Create two derived classes Cow and Sheep thatimplement the sound() method ?"
      ],
      "metadata": {
        "id": "kjZzpMadj3U7"
      }
    },
    {
      "cell_type": "code",
      "source": [
        "from abc import ABC, abstractmethod\n",
        "\n",
        "class Animal(ABC):\n",
        "    @abstractmethod\n",
        "    def sound(self):\n",
        "        pass\n",
        "\n",
        "class Cow(Animal):\n",
        "    def sound(self):\n",
        "        return \"Moo\"\n",
        "\n",
        "class Sheep(Animal):\n",
        "    def sound(self):\n",
        "        return \"Baa\"\n",
        "\n",
        "if __name__ == \"__main__\":\n",
        "    cow = Cow()\n",
        "    sheep = Sheep()\n",
        "\n",
        "    print(f\"Cow sound: {cow.sound()}\")\n",
        "    print(f\"Sheep sound: {sheep.sound()}\")"
      ],
      "metadata": {
        "colab": {
          "base_uri": "https://localhost:8080/"
        },
        "id": "1HTdXdWzj_1A",
        "outputId": "1b7468b4-efe7-41b1-d2bc-220508765d96"
      },
      "execution_count": 35,
      "outputs": [
        {
          "output_type": "stream",
          "name": "stdout",
          "text": [
            "Cow sound: Moo\n",
            "Sheep sound: Baa\n"
          ]
        }
      ]
    },
    {
      "cell_type": "markdown",
      "source": [
        "17. Create a class Book with attributes title, author, and year_published. Add a method get_book_info() that\n",
        "returns a formatted string with the book's details ?"
      ],
      "metadata": {
        "id": "ztUE9I9JkT8k"
      }
    },
    {
      "cell_type": "code",
      "source": [
        "class Book:\n",
        "    def __init__(self, title, author, year_published):\n",
        "        self.title = title\n",
        "        self.author = author\n",
        "        self.year_published = year_published\n",
        "\n",
        "    def get_book_info(self):\n",
        "        return f\"'{self.title}' by {self.author}, published in {self.year_published}\"\n",
        "\n",
        "\n",
        "# Example usage\n",
        "if __name__ == \"__main__\":\n",
        "    book1 = Book(\"One Indian Girl\",\t\"Chetan Bhagat\", 2016)\n",
        "\n",
        "    print(book1.get_book_info())"
      ],
      "metadata": {
        "colab": {
          "base_uri": "https://localhost:8080/"
        },
        "id": "QoOQxQ7LkfCv",
        "outputId": "e499d85e-6491-4a5a-e75d-e65c3dcca3a6"
      },
      "execution_count": 2,
      "outputs": [
        {
          "output_type": "stream",
          "name": "stdout",
          "text": [
            "'One Indian Girl' by Chetan Bhagat, published in 2016\n"
          ]
        }
      ]
    },
    {
      "cell_type": "markdown",
      "source": [
        " 18. Create a class House with attributes address and price. Create a derived class Mansion that adds an\n",
        "attribute number_of_rooms ?"
      ],
      "metadata": {
        "id": "JXtZCjwxk0t9"
      }
    },
    {
      "cell_type": "code",
      "source": [
        "class House:\n",
        "    def __init__(self, address, price):\n",
        "        self.address = address\n",
        "        self.price = price\n",
        "\n",
        "class Home(House):\n",
        "    def __init__(self, address, price):\n",
        "        super().__init__(address, price)\n",
        "\n",
        "h = House(\"Ranjhi\", 300000)\n",
        "H = House(\"Katni\", 5000000,)\n",
        "\n",
        "print(vars(h))\n",
        "print(vars(H))\n"
      ],
      "metadata": {
        "colab": {
          "base_uri": "https://localhost:8080/"
        },
        "id": "4HBxEc2elrks",
        "outputId": "a86b68be-41fc-4775-d5df-3b2b6a3a31c7"
      },
      "execution_count": 51,
      "outputs": [
        {
          "output_type": "stream",
          "name": "stdout",
          "text": [
            "{'address': 'Ranjhi', 'price': 300000}\n",
            "{'address': 'Katni', 'price': 5000000}\n"
          ]
        }
      ]
    }
  ]
}